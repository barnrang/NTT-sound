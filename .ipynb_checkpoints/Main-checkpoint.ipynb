{
 "cells": [
  {
   "cell_type": "markdown",
   "metadata": {},
   "source": [
    "# NTT Signate Competition\n",
    "## TODO\n",
    "- Study and Visualize data\n",
    "- Tried MFCC transformation (2D Conv)"
   ]
  },
  {
   "cell_type": "code",
   "execution_count": 1,
   "metadata": {},
   "outputs": [],
   "source": [
    "import numpy as np\n",
    "np.random.seed(1001)\n",
    "\n",
    "import os\n",
    "import shutil\n",
    "\n",
    "import IPython\n",
    "import matplotlib\n",
    "import matplotlib.pyplot as plt\n",
    "import pandas as pd\n",
    "import seaborn as sns\n",
    "import librosa\n",
    "from tqdm import tqdm_notebook\n",
    "from sklearn.model_selection import StratifiedKFold\n",
    "\n",
    "%matplotlib inline\n",
    "matplotlib.style.use('ggplot')"
   ]
  },
  {
   "cell_type": "markdown",
   "metadata": {
    "collapsed": true
   },
   "source": [
    "# Read Tag"
   ]
  },
  {
   "cell_type": "code",
   "execution_count": 3,
   "metadata": {},
   "outputs": [],
   "source": [
    "data_tag = pd.read_csv('data/class_train.tsv', sep='\\t', header=None, names=['file_name', 'tag'])"
   ]
  },
  {
   "cell_type": "code",
   "execution_count": 4,
   "metadata": {},
   "outputs": [
    {
     "data": {
      "text/html": [
       "<div>\n",
       "<style scoped>\n",
       "    .dataframe tbody tr th:only-of-type {\n",
       "        vertical-align: middle;\n",
       "    }\n",
       "\n",
       "    .dataframe tbody tr th {\n",
       "        vertical-align: top;\n",
       "    }\n",
       "\n",
       "    .dataframe thead th {\n",
       "        text-align: right;\n",
       "    }\n",
       "</style>\n",
       "<table border=\"1\" class=\"dataframe\">\n",
       "  <thead>\n",
       "    <tr style=\"text-align: right;\">\n",
       "      <th></th>\n",
       "      <th>file_name</th>\n",
       "      <th>tag</th>\n",
       "    </tr>\n",
       "  </thead>\n",
       "  <tbody>\n",
       "    <tr>\n",
       "      <th>0</th>\n",
       "      <td>0002f1cd968ca78ada9e1c7037224773</td>\n",
       "      <td>MA_CH</td>\n",
       "    </tr>\n",
       "    <tr>\n",
       "      <th>1</th>\n",
       "      <td>0003747ec9268461d4cbb9e1b86e9663</td>\n",
       "      <td>FE_AD</td>\n",
       "    </tr>\n",
       "    <tr>\n",
       "      <th>2</th>\n",
       "      <td>0003b32f378b001f0f73bf0981da8773</td>\n",
       "      <td>MA_CH</td>\n",
       "    </tr>\n",
       "    <tr>\n",
       "      <th>3</th>\n",
       "      <td>0004ab975bf8b59e1b19f2b7b6d1548b</td>\n",
       "      <td>MA_CH</td>\n",
       "    </tr>\n",
       "    <tr>\n",
       "      <th>4</th>\n",
       "      <td>0005678b57ca265a65f8ef0cc7481277</td>\n",
       "      <td>MA_AD</td>\n",
       "    </tr>\n",
       "    <tr>\n",
       "      <th>5</th>\n",
       "      <td>00068ee0420a8dac9f7b51b1783b7f4b</td>\n",
       "      <td>FE_EL</td>\n",
       "    </tr>\n",
       "    <tr>\n",
       "      <th>6</th>\n",
       "      <td>0007a9416dd92cc01275be7e3aac6f9f</td>\n",
       "      <td>FE_CH</td>\n",
       "    </tr>\n",
       "    <tr>\n",
       "      <th>7</th>\n",
       "      <td>000841455294bab27f3ecc5e8829f2df</td>\n",
       "      <td>MA_AD</td>\n",
       "    </tr>\n",
       "    <tr>\n",
       "      <th>8</th>\n",
       "      <td>000ad3f1ea1fb1eafa92d9fa818c5122</td>\n",
       "      <td>MA_AD</td>\n",
       "    </tr>\n",
       "    <tr>\n",
       "      <th>9</th>\n",
       "      <td>000b1bbde96b2c541ee1721dfdda6d7a</td>\n",
       "      <td>FE_CH</td>\n",
       "    </tr>\n",
       "  </tbody>\n",
       "</table>\n",
       "</div>"
      ],
      "text/plain": [
       "                          file_name    tag\n",
       "0  0002f1cd968ca78ada9e1c7037224773  MA_CH\n",
       "1  0003747ec9268461d4cbb9e1b86e9663  FE_AD\n",
       "2  0003b32f378b001f0f73bf0981da8773  MA_CH\n",
       "3  0004ab975bf8b59e1b19f2b7b6d1548b  MA_CH\n",
       "4  0005678b57ca265a65f8ef0cc7481277  MA_AD\n",
       "5  00068ee0420a8dac9f7b51b1783b7f4b  FE_EL\n",
       "6  0007a9416dd92cc01275be7e3aac6f9f  FE_CH\n",
       "7  000841455294bab27f3ecc5e8829f2df  MA_AD\n",
       "8  000ad3f1ea1fb1eafa92d9fa818c5122  MA_AD\n",
       "9  000b1bbde96b2c541ee1721dfdda6d7a  FE_CH"
      ]
     },
     "execution_count": 4,
     "metadata": {},
     "output_type": "execute_result"
    }
   ],
   "source": [
    "data_tag.head(10)"
   ]
  },
  {
   "cell_type": "code",
   "execution_count": 5,
   "metadata": {},
   "outputs": [],
   "source": [
    "# Preprocess the tag\n",
    "gender_map = {'MA':0, 'FE':1}\n",
    "age_map = {'CH':0, 'AD':1, 'EL':2}\n",
    "\n",
    "data_tag['gender'] = data_tag['tag'].apply(lambda x: gender_map[x.split('_')[0]])\n",
    "data_tag['age'] = data_tag['tag'].apply(lambda x: age_map[x.split('_')[1]])\n",
    "data_tag['single_class'] = data_tag['tag'].apply(lambda x: gender_map[x.split('_')[0]] * 3 + age_map[x.split('_')[1]])"
   ]
  },
  {
   "cell_type": "code",
   "execution_count": 6,
   "metadata": {},
   "outputs": [
    {
     "data": {
      "text/plain": [
       "Text(0, 0.5, 'Number of Samples')"
      ]
     },
     "execution_count": 6,
     "metadata": {},
     "output_type": "execute_result"
    },
    {
     "data": {
      "image/png": "[encoded data removed]",
      "text/plain": [
       "<Figure size 1152x720 with 1 Axes>"
      ]
     },
     "metadata": {
      "needs_background": "light"
     },
     "output_type": "display_data"
    }
   ],
   "source": [
    "category_group = data_tag.groupby(['tag']).count()\n",
    "plot = category_group.reindex(category_group['file_name'].sort_values().index)\\\n",
    "          .plot(kind='bar', stacked=True, title=\"Number of Audio Samples per Category\", figsize=(16,10))\n",
    "plot.set_xlabel(\"Category\")\n",
    "plot.set_ylabel(\"Number of Samples\")"
   ]
  },
  {
   "cell_type": "markdown",
   "metadata": {},
   "source": [
    "# Load sound"
   ]
  },
  {
   "cell_type": "code",
   "execution_count": 10,
   "metadata": {},
   "outputs": [],
   "source": [
    "ROOT_PATH = 'data/train/'\n",
    "sample_sound_list = os.listdir(ROOT_PATH)"
   ]
  },
  {
   "cell_type": "code",
   "execution_count": 11,
   "metadata": {},
   "outputs": [
    {
     "data": {
      "text/html": [
       "\n",
       "                <audio controls=\"controls\" >\n",
       "                    <source src=\"data:audio/x-wav;base64,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\" type=\"audio/x-wav\" />\n",
       "                    Your browser does not support the audio element.\n",
       "                </audio>\n",
       "              "
      ],
      "text/plain": [
       "<IPython.lib.display.Audio object>"
      ]
     },
     "execution_count": 11,
     "metadata": {},
     "output_type": "execute_result"
    }
   ],
   "source": [
    "import IPython.display as ipd  # To play sound in the notebook\n",
    "fname = ROOT_PATH + sample_sound_list[2]   # Hi-hat\n",
    "ipd.Audio(fname)"
   ]
  },
  {
   "cell_type": "code",
   "execution_count": 12,
   "metadata": {
    "scrolled": true
   },
   "outputs": [
    {
     "name": "stdout",
     "output_type": "stream",
     "text": [
      "Sampling (frame) rate =  16000\n",
      "Total samples (frames) =  (29760,)\n",
      "[-20 -15  -5 ...  -3 -12 -20]\n"
     ]
    }
   ],
   "source": [
    "# Using scipy\n",
    "from scipy.io import wavfile\n",
    "rate, data = wavfile.read(fname,)\n",
    "print(\"Sampling (frame) rate = \", rate)\n",
    "print(\"Total samples (frames) = \", data.shape)\n",
    "print(data)"
   ]
  },
  {
   "cell_type": "code",
   "execution_count": 13,
   "metadata": {
    "scrolled": false
   },
   "outputs": [
    {
     "data": {
      "text/plain": [
       "[<matplotlib.lines.Line2D at 0x7f32ce952978>]"
      ]
     },
     "execution_count": 13,
     "metadata": {},
     "output_type": "execute_result"
    },
    {
     "data": {
      "image/png": "[encoded data removed]",
      "text/plain": [
       "<Figure size 432x288 with 1 Axes>"
      ]
     },
     "metadata": {
      "needs_background": "light"
     },
     "output_type": "display_data"
    }
   ],
   "source": [
    "plt.plot(data)"
   ]
  },
  {
   "cell_type": "code",
   "execution_count": 14,
   "metadata": {},
   "outputs": [
    {
     "data": {
      "text/plain": [
       "(array([3.3558e+04, 3.7400e+03, 4.9300e+02, 1.1000e+01, 1.0000e+00,\n",
       "        0.0000e+00, 0.0000e+00, 2.0000e+00, 0.0000e+00, 1.0000e+00]),\n",
       " array([  5120.,  79600., 154080., 228560., 303040., 377520., 452000.,\n",
       "        526480., 600960., 675440., 749920.]),\n",
       " <a list of 10 Patch objects>)"
      ]
     },
     "execution_count": 14,
     "metadata": {},
     "output_type": "execute_result"
    },
    {
     "data": {
      "image/png": "[encoded data removed]",
      "text/plain": [
       "<Figure size 432x288 with 1 Axes>"
      ]
     },
     "metadata": {
      "needs_background": "light"
     },
     "output_type": "display_data"
    }
   ],
   "source": [
    "sound_lengths = [len(wavfile.read(ROOT_PATH + x)[1]) for x in sample_sound_list]\n",
    "plt.hist(sound_lengths)"
   ]
  },
  {
   "cell_type": "code",
   "execution_count": 16,
   "metadata": {},
   "outputs": [],
   "source": [
    "wave_data = []\n",
    "tag_number = []\n",
    "not_found = []\n",
    "for row in data_tag.iterrows():\n",
    "    file_name = ROOT_PATH + row[1]['file_name'] + '.wav'\n",
    "    try:\n",
    "        wave_data.append(wavfile.read(file_name)[1])\n",
    "        tag_number.append(row[1]['single_class'])\n",
    "    except FileNotFoundError:\n",
    "        not_found.append(file_name)"
   ]
  },
  {
   "cell_type": "code",
   "execution_count": 17,
   "metadata": {},
   "outputs": [],
   "source": [
    "tag_number = np.array(tag_number)"
   ]
  },
  {
   "cell_type": "markdown",
   "metadata": {
    "collapsed": true
   },
   "source": [
    "# Model & Data generator"
   ]
  },
  {
   "cell_type": "code",
   "execution_count": 18,
   "metadata": {},
   "outputs": [
    {
     "name": "stderr",
     "output_type": "stream",
     "text": [
      "Using TensorFlow backend.\n"
     ]
    }
   ],
   "source": [
    "import tensorflow as tf\n",
    "from keras import losses, models, optimizers\n",
    "from keras.activations import relu, softmax\n",
    "from keras.callbacks import (EarlyStopping, LearningRateScheduler,\n",
    "                             ModelCheckpoint, TensorBoard, ReduceLROnPlateau)\n",
    "from keras.layers import (Convolution1D, Dense, Dropout, GlobalAveragePooling1D, \n",
    "                          GlobalMaxPool1D, Input, MaxPool1D, concatenate)\n",
    "from keras.utils import Sequence, to_categorical\n",
    "from keras import backend as K"
   ]
  },
  {
   "cell_type": "code",
   "execution_count": 19,
   "metadata": {},
   "outputs": [],
   "source": [
    "class Config(object):\n",
    "    def __init__(self,\n",
    "                 sampling_rate=16000, audio_duration=2, n_classes=6,\n",
    "                 use_mfcc=False, n_folds=10, learning_rate=0.0001, \n",
    "                 max_epochs=50, n_mfcc=20):\n",
    "        self.sampling_rate = sampling_rate\n",
    "        self.audio_duration = audio_duration\n",
    "        self.n_classes = n_classes\n",
    "        self.use_mfcc = use_mfcc\n",
    "        self.n_mfcc = n_mfcc\n",
    "        self.n_folds = n_folds\n",
    "        self.learning_rate = learning_rate\n",
    "        self.max_epochs = max_epochs\n",
    "\n",
    "        self.audio_length = self.sampling_rate * self.audio_duration\n",
    "        if self.use_mfcc:\n",
    "            self.dim = (self.n_mfcc, 1 + int(np.floor(self.audio_length/512)), 1)\n",
    "        else:\n",
    "            self.dim = (self.audio_length, 1)"
   ]
  },
  {
   "cell_type": "code",
   "execution_count": 57,
   "metadata": {},
   "outputs": [],
   "source": [
    "class DataGenerator(Sequence):\n",
    "    def __init__(self, config, data, labels=None, \n",
    "                 batch_size=64, shuffle=True, preprocessing_fn=lambda x: x):\n",
    "        self.config = config\n",
    "        self.data = data\n",
    "        self.labels = labels\n",
    "        self.batch_size = batch_size\n",
    "        self.shuffle = shuffle\n",
    "        self.preprocessing_fn = preprocessing_fn\n",
    "        self.on_epoch_end()\n",
    "        self.dim = self.config.dim\n",
    "\n",
    "    def __len__(self):\n",
    "        return int(np.ceil(len(self.data) / self.batch_size))\n",
    "\n",
    "    def __getitem__(self, index):\n",
    "        indexes = self.indexes[index*self.batch_size:(index+1)*self.batch_size]\n",
    "        return self.__data_generation(indexes)\n",
    "\n",
    "    def on_epoch_end(self):\n",
    "        if self.shuffle:\n",
    "            self.indexes = np.random.permutation(len(self.data))\n",
    "        else:\n",
    "            self.indexes = np.arange(len(self.data))\n",
    "\n",
    "    def __data_generation(self, indexes):\n",
    "        cur_batch_size = len(indexes)\n",
    "        X = np.empty((cur_batch_size, *self.dim))\n",
    "\n",
    "        input_length = self.config.audio_length\n",
    "        for i, idx in enumerate(indexes):\n",
    "            data = self.data[idx].astype(np.float32)\n",
    "            # Random offset / Padding\n",
    "            if len(data) > input_length:\n",
    "                max_offset = len(data) - input_length\n",
    "                offset = np.random.randint(max_offset)\n",
    "                data = data[offset:(input_length+offset)]\n",
    "            else:\n",
    "                if input_length > len(data):\n",
    "                    max_offset = input_length - len(data)\n",
    "                    offset = np.random.randint(max_offset)\n",
    "                else:\n",
    "                    offset = 0\n",
    "                data = np.pad(data, (offset, input_length - len(data) - offset), \"constant\")\n",
    "                \n",
    "            # Normalization + Other Preprocessing\n",
    "            if self.config.use_mfcc:\n",
    "                data = librosa.feature.mfcc(data, sr=self.config.sampling_rate,\n",
    "                                                   n_mfcc=self.config.n_mfcc)\n",
    "                data = np.expand_dims(data, axis=-1)\n",
    "            else:\n",
    "                data = self.preprocessing_fn(data)[:, np.newaxis]\n",
    "            X[i,] = data\n",
    "\n",
    "        if self.labels is not None:\n",
    "            y = self.labels[indexes]\n",
    "            return X, to_categorical(y, num_classes=self.config.n_classes)\n",
    "        else:\n",
    "            return X"
   ]
  },
  {
   "cell_type": "code",
   "execution_count": 21,
   "metadata": {},
   "outputs": [],
   "source": [
    "def audio_norm(data):\n",
    "    max_data = np.max(data)\n",
    "    min_data = np.min(data)\n",
    "    data = (data-min_data)/(max_data-min_data+1e-6)\n",
    "    return data-0.5"
   ]
  },
  {
   "cell_type": "code",
   "execution_count": 22,
   "metadata": {},
   "outputs": [],
   "source": [
    "config = Config()"
   ]
  },
  {
   "cell_type": "code",
   "execution_count": 23,
   "metadata": {},
   "outputs": [],
   "source": [
    "def get_1d_dummy_model(config):\n",
    "    \n",
    "    nclass = config.n_classes\n",
    "    input_length = config.audio_length\n",
    "    \n",
    "    inp = Input(shape=(input_length,1))\n",
    "    x = GlobalMaxPool1D()(inp)\n",
    "    out = Dense(nclass, activation=softmax)(x)\n",
    "\n",
    "    model = models.Model(inputs=inp, outputs=out)\n",
    "    return model\n",
    "\n",
    "def get_1d_conv_model(config):\n",
    "    \n",
    "    nclass = config.n_classes\n",
    "    input_length = config.audio_length\n",
    "    \n",
    "    inp = Input(shape=(input_length,1))\n",
    "    x = Convolution1D(16, 9, activation=relu, padding=\"valid\")(inp)\n",
    "    x = Convolution1D(16, 9, activation=relu, padding=\"valid\")(x)\n",
    "    x = MaxPool1D(16)(x)\n",
    "    x = Dropout(rate=0.1)(x)\n",
    "    \n",
    "    x = Convolution1D(32, 3, activation=relu, padding=\"valid\")(x)\n",
    "    x = Convolution1D(32, 3, activation=relu, padding=\"valid\")(x)\n",
    "    x = MaxPool1D(4)(x)\n",
    "    x = Dropout(rate=0.1)(x)\n",
    "    \n",
    "    x = Convolution1D(32, 3, activation=relu, padding=\"valid\")(x)\n",
    "    x = Convolution1D(32, 3, activation=relu, padding=\"valid\")(x)\n",
    "    x = MaxPool1D(4)(x)\n",
    "    x = Dropout(rate=0.1)(x)\n",
    "    \n",
    "    x = Convolution1D(256, 3, activation=relu, padding=\"valid\")(x)\n",
    "    x = Convolution1D(256, 3, activation=relu, padding=\"valid\")(x)\n",
    "    x = GlobalMaxPool1D()(x)\n",
    "    x = Dropout(rate=0.2)(x)\n",
    "\n",
    "    x = Dense(64, activation=relu)(x)\n",
    "    x = Dense(1028, activation=relu)(x)\n",
    "    out = Dense(nclass, activation=softmax)(x)\n",
    "\n",
    "    model = models.Model(inputs=inp, outputs=out)\n",
    "    return model"
   ]
  },
  {
   "cell_type": "code",
   "execution_count": 24,
   "metadata": {},
   "outputs": [],
   "source": [
    "from keras.layers import (Convolution2D, GlobalAveragePooling2D, BatchNormalization, Flatten,\n",
    "                          GlobalMaxPool2D, MaxPool2D, concatenate, Activation)"
   ]
  },
  {
   "cell_type": "code",
   "execution_count": 25,
   "metadata": {},
   "outputs": [],
   "source": [
    "def get_2d_dummy_model(config):\n",
    "    \n",
    "    nclass = config.n_classes\n",
    "    \n",
    "    inp = Input(shape=(config.dim[0],config.dim[1],1))\n",
    "    x = GlobalMaxPool2D()(inp)\n",
    "    out = Dense(nclass, activation=softmax)(x)\n",
    "\n",
    "    model = models.Model(inputs=inp, outputs=out)\n",
    "    return model\n",
    "\n",
    "\n",
    "def get_2d_conv_model(config):\n",
    "    \n",
    "    nclass = config.n_classes\n",
    "    \n",
    "    inp = Input(shape=(config.dim[0],config.dim[1],1))\n",
    "    x = Convolution2D(32, (4,10), padding=\"same\")(inp)\n",
    "    x = BatchNormalization()(x)\n",
    "    x = Activation(\"relu\")(x)\n",
    "    x = MaxPool2D()(x)\n",
    "    \n",
    "    x = Convolution2D(32, (4,10), padding=\"same\")(x)\n",
    "    x = BatchNormalization()(x)\n",
    "    x = Activation(\"relu\")(x)\n",
    "    x = MaxPool2D()(x)\n",
    "    \n",
    "    x = Convolution2D(32, (4,10), padding=\"same\")(x)\n",
    "    x = BatchNormalization()(x)\n",
    "    x = Activation(\"relu\")(x)\n",
    "    x = MaxPool2D()(x)\n",
    "    \n",
    "    x = Convolution2D(32, (4,10), padding=\"same\")(x)\n",
    "    x = BatchNormalization()(x)\n",
    "    x = Activation(\"relu\")(x)\n",
    "    x = MaxPool2D()(x)\n",
    "\n",
    "    x = Flatten()(x)\n",
    "    x = Dense(64)(x)\n",
    "    x = BatchNormalization()(x)\n",
    "    x = Activation(\"relu\")(x)\n",
    "    out = Dense(nclass, activation=softmax)(x)\n",
    "\n",
    "    model = models.Model(inputs=inp, outputs=out)\n",
    "    return model"
   ]
  },
  {
   "cell_type": "code",
   "execution_count": 26,
   "metadata": {},
   "outputs": [],
   "source": [
    "eps = 1e-8\n",
    "def f1_score(y_true, y_pred):\n",
    "    y_pred = tf.round(y_pred)\n",
    "    TP = K.sum(y_pred * y_true)\n",
    "    precision = TP / (K.sum(y_pred)+eps)\n",
    "    recall = TP / (K.sum(y_true)+eps)\n",
    "    f1 = 2 * precision * recall / (eps+precision + recall)\n",
    "    return f1\n",
    "\n",
    "\n",
    "def f1_loss(y_true, y_pred):\n",
    "    TP = K.sum(y_pred * y_true)\n",
    "    precision = TP / (eps + K.sum(y_pred))\n",
    "    recall = TP / (eps + K.sum(y_true))\n",
    "    f1 = 2 * precision * recall / (eps + precision + recall)\n",
    "    f1_loss = 1 - f1\n",
    "    return f1_loss\n",
    "\n",
    "\n",
    "def precision(y_true, y_pred):\n",
    "    y_pred = tf.round(y_pred)\n",
    "    TP = K.sum(y_pred * y_true)\n",
    "    precision = TP / K.sum(y_pred)\n",
    "    return precision\n",
    "\n",
    "\n",
    "def recall(y_true, y_pred):\n",
    "    y_pred = tf.round(y_pred)\n",
    "    TP = K.sum(y_pred * y_true)\n",
    "    recall = TP / K.sum(y_true)\n",
    "    return recall"
   ]
  },
  {
   "cell_type": "code",
   "execution_count": 28,
   "metadata": {},
   "outputs": [],
   "source": [
    "from sklearn.model_selection import train_test_split\n",
    "\n",
    "X_train, X_val, Y_train, Y_val = train_test_split(wave_data, tag_number, random_state=42)"
   ]
  },
  {
   "cell_type": "code",
   "execution_count": 29,
   "metadata": {},
   "outputs": [],
   "source": [
    "config = Config(use_mfcc=False, n_mfcc=40)\n",
    "dummy_model = get_1d_conv_model(config)\n",
    "train_gen = DataGenerator(config, X_train, Y_train, preprocessing_fn=audio_norm)\n",
    "val_gen = DataGenerator(config, X_val, Y_val, shuffle=False, preprocessing_fn=audio_norm)"
   ]
  },
  {
   "cell_type": "code",
   "execution_count": 35,
   "metadata": {},
   "outputs": [
    {
     "data": {
      "text/plain": [
       "37806"
      ]
     },
     "execution_count": 35,
     "metadata": {},
     "output_type": "execute_result"
    }
   ],
   "source": [
    "len(sample_sound_list)"
   ]
  },
  {
   "cell_type": "code",
   "execution_count": 30,
   "metadata": {},
   "outputs": [],
   "source": [
    "opt = optimizers.Adam(config.learning_rate)\n",
    "dummy_model.compile(optimizer=opt, loss=losses.categorical_crossentropy, metrics=['acc', f1_score])"
   ]
  },
  {
   "cell_type": "code",
   "execution_count": 38,
   "metadata": {},
   "outputs": [
    {
     "name": "stdout",
     "output_type": "stream",
     "text": [
      "mkdir: cannot create directory ‘logs’: File exists\n",
      "Epoch 1/50\n"
     ]
    },
    {
     "name": "stderr",
     "output_type": "stream",
     "text": [
      "/home/hpc/anaconda3/envs/deeplr/lib/python3.6/site-packages/ipykernel_launcher.py:4: RuntimeWarning: overflow encountered in short_scalars\n",
      "  after removing the cwd from sys.path.\n"
     ]
    },
    {
     "name": "stdout",
     "output_type": "stream",
     "text": [
      "444/444 [==============================] - 24s 55ms/step - loss: 2.1540 - acc: 0.2466 - f1_score: 0.0214 - val_loss: 2.0737 - val_acc: 0.3090 - val_f1_score: 0.0216\n",
      "\n",
      "Epoch 00001: val_loss improved from inf to 2.07366, saving model to model/best.h5\n",
      "Epoch 2/50\n",
      "444/444 [==============================] - 24s 55ms/step - loss: 2.0459 - acc: 0.3137 - f1_score: 0.0229 - val_loss: 2.0070 - val_acc: 0.3362 - val_f1_score: 0.0252\n",
      "\n",
      "Epoch 00002: val_loss improved from 2.07366 to 2.00697, saving model to model/best.h5\n",
      "Epoch 3/50\n",
      "444/444 [==============================] - 24s 55ms/step - loss: 1.9778 - acc: 0.3399 - f1_score: 0.0746 - val_loss: 2.0225 - val_acc: 0.3374 - val_f1_score: 0.0807\n",
      "\n",
      "Epoch 00003: val_loss did not improve from 2.00697\n",
      "Epoch 4/50\n",
      "444/444 [==============================] - 25s 55ms/step - loss: 1.9956 - acc: 0.3489 - f1_score: 0.1300 - val_loss: 1.9866 - val_acc: 0.3667 - val_f1_score: 0.1639\n",
      "\n",
      "Epoch 00004: val_loss improved from 2.00697 to 1.98656, saving model to model/best.h5\n",
      "Epoch 5/50\n",
      "444/444 [==============================] - 24s 55ms/step - loss: 1.9027 - acc: 0.3757 - f1_score: 0.1637 - val_loss: 1.8766 - val_acc: 0.3798 - val_f1_score: 0.2471\n",
      "\n",
      "Epoch 00005: val_loss improved from 1.98656 to 1.87656, saving model to model/best.h5\n",
      "Epoch 6/50\n",
      "444/444 [==============================] - 25s 57ms/step - loss: 1.8376 - acc: 0.3934 - f1_score: 0.1923 - val_loss: 1.7557 - val_acc: 0.3894 - val_f1_score: 0.2920\n",
      "\n",
      "Epoch 00006: val_loss improved from 1.87656 to 1.75567, saving model to model/best.h5\n",
      "Epoch 7/50\n",
      "444/444 [==============================] - 25s 57ms/step - loss: 1.8076 - acc: 0.3985 - f1_score: 0.1975 - val_loss: 1.7336 - val_acc: 0.4077 - val_f1_score: 0.2735\n",
      "\n",
      "Epoch 00007: val_loss improved from 1.75567 to 1.73365, saving model to model/best.h5\n",
      "Epoch 8/50\n",
      "444/444 [==============================] - 25s 57ms/step - loss: 1.8204 - acc: 0.4092 - f1_score: 0.2065 - val_loss: 1.8612 - val_acc: 0.4009 - val_f1_score: 0.2525\n",
      "\n",
      "Epoch 00008: val_loss did not improve from 1.73365\n",
      "Epoch 9/50\n",
      "444/444 [==============================] - 26s 58ms/step - loss: 1.8006 - acc: 0.4119 - f1_score: 0.2110 - val_loss: 2.0021 - val_acc: 0.3777 - val_f1_score: 0.2452\n",
      "\n",
      "Epoch 00009: val_loss did not improve from 1.73365\n",
      "Epoch 10/50\n",
      "444/444 [==============================] - 25s 57ms/step - loss: 1.7891 - acc: 0.4081 - f1_score: 0.2110 - val_loss: 1.7546 - val_acc: 0.4156 - val_f1_score: 0.2779\n",
      "\n",
      "Epoch 00010: val_loss did not improve from 1.73365\n",
      "Epoch 11/50\n",
      "444/444 [==============================] - 26s 58ms/step - loss: 1.7174 - acc: 0.4206 - f1_score: 0.2213 - val_loss: 1.7407 - val_acc: 0.4174 - val_f1_score: 0.2899\n",
      "\n",
      "Epoch 00011: val_loss did not improve from 1.73365\n",
      "Epoch 12/50\n",
      "444/444 [==============================] - 25s 57ms/step - loss: 1.7009 - acc: 0.4288 - f1_score: 0.2272 - val_loss: 1.7426 - val_acc: 0.4154 - val_f1_score: 0.3041\n",
      "\n",
      "Epoch 00012: val_loss did not improve from 1.73365\n"
     ]
    },
    {
     "data": {
      "text/plain": [
       "<keras.callbacks.History at 0x7f325c2340b8>"
      ]
     },
     "execution_count": 38,
     "metadata": {},
     "output_type": "execute_result"
    }
   ],
   "source": [
    "!mkdir logs\n",
    "checkpoint = ModelCheckpoint('model/best.h5', monitor='val_loss', verbose=1, save_best_only=True)\n",
    "early = EarlyStopping(monitor=\"val_loss\", mode=\"min\", patience=5)\n",
    "reduce_lr = ReduceLROnPlateau(monitor='val_loss', factor=0.4, patience=2, min_lr=1e-8)\n",
    "tb = TensorBoard(log_dir='logs/', write_graph=True)\n",
    "\n",
    "callbacks_list = [checkpoint, early, tb, reduce_lr]\n",
    "\n",
    "dummy_model.fit_generator(train_gen, validation_data=val_gen, callbacks=callbacks_list, epochs=config.max_epochs, workers=6, max_queue_size=20)"
   ]
  },
  {
   "cell_type": "code",
   "execution_count": 58,
   "metadata": {},
   "outputs": [],
   "source": [
    "K.clear_session()\n",
    "config = Config(use_mfcc=True, n_mfcc=40)\n",
    "dummy_model = get_2d_conv_model(config)\n",
    "train_gen = DataGenerator(config, X_train, Y_train, preprocessing_fn=audio_norm)\n",
    "val_gen = DataGenerator(config, X_val, Y_val, shuffle=False, preprocessing_fn=audio_norm)"
   ]
  },
  {
   "cell_type": "code",
   "execution_count": 60,
   "metadata": {},
   "outputs": [],
   "source": [
    "import librosa\n",
    "opt = optimizers.Adam(config.learning_rate)\n",
    "dummy_model.compile(optimizer=opt, loss=losses.categorical_crossentropy, metrics=['acc', f1_score])"
   ]
  },
  {
   "cell_type": "code",
   "execution_count": null,
   "metadata": {
    "scrolled": true
   },
   "outputs": [
    {
     "name": "stdout",
     "output_type": "stream",
     "text": [
      "mkdir: cannot create directory ‘logs’: File exists\n",
      "Epoch 1/50\n",
      "444/444 [==============================] - 324s 731ms/step - loss: 0.4580 - acc: 0.8403 - f1_score: 0.8292 - val_loss: 0.5080 - val_acc: 0.8061 - val_f1_score: 0.8020\n",
      "\n",
      "Epoch 00001: val_loss improved from inf to 0.50797, saving model to model/best.h5\n",
      "Epoch 2/50\n",
      "444/444 [==============================] - 309s 696ms/step - loss: 0.3825 - acc: 0.8693 - f1_score: 0.8634 - val_loss: 0.4171 - val_acc: 0.8424 - val_f1_score: 0.8396\n",
      "\n",
      "Epoch 00002: val_loss improved from 0.50797 to 0.41705, saving model to model/best.h5\n",
      "Epoch 3/50\n",
      "444/444 [==============================] - 304s 684ms/step - loss: 0.3327 - acc: 0.8868 - f1_score: 0.8828 - val_loss: 0.3384 - val_acc: 0.8776 - val_f1_score: 0.8737\n",
      "\n",
      "Epoch 00003: val_loss improved from 0.41705 to 0.33838, saving model to model/best.h5\n",
      "Epoch 4/50\n",
      "444/444 [==============================] - 301s 678ms/step - loss: 0.2836 - acc: 0.9055 - f1_score: 0.9017 - val_loss: 0.3589 - val_acc: 0.8658 - val_f1_score: 0.8652\n",
      "\n",
      "Epoch 00004: val_loss did not improve from 0.33838\n",
      "Epoch 5/50\n",
      "444/444 [==============================] - 308s 693ms/step - loss: 0.2881 - acc: 0.9035 - f1_score: 0.9017 - val_loss: 0.2932 - val_acc: 0.8954 - val_f1_score: 0.8955\n",
      "\n",
      "Epoch 00005: val_loss improved from 0.33838 to 0.29324, saving model to model/best.h5\n",
      "Epoch 6/50\n",
      "444/444 [==============================] - 308s 693ms/step - loss: 0.2380 - acc: 0.9219 - f1_score: 0.9194 - val_loss: 0.2614 - val_acc: 0.9109 - val_f1_score: 0.9088\n",
      "\n",
      "Epoch 00006: val_loss improved from 0.29324 to 0.26138, saving model to model/best.h5\n",
      "Epoch 7/50\n",
      "444/444 [==============================] - 315s 710ms/step - loss: 0.2488 - acc: 0.9165 - f1_score: 0.9149 - val_loss: 0.2849 - val_acc: 0.8994 - val_f1_score: 0.8992\n",
      "\n",
      "Epoch 00007: val_loss did not improve from 0.26138\n",
      "Epoch 8/50\n",
      "444/444 [==============================] - 315s 708ms/step - loss: 0.2066 - acc: 0.9319 - f1_score: 0.9322 - val_loss: 0.3403 - val_acc: 0.8765 - val_f1_score: 0.8748\n",
      "\n",
      "Epoch 00008: val_loss did not improve from 0.26138\n",
      "Epoch 9/50\n",
      "444/444 [==============================] - 306s 689ms/step - loss: 0.1938 - acc: 0.9379 - f1_score: 0.9371 - val_loss: 0.2831 - val_acc: 0.8998 - val_f1_score: 0.8989\n",
      "\n",
      "Epoch 00009: val_loss did not improve from 0.26138\n",
      "Epoch 10/50\n",
      "444/444 [==============================] - 306s 689ms/step - loss: 0.1827 - acc: 0.9426 - f1_score: 0.9413 - val_loss: 0.1928 - val_acc: 0.9353 - val_f1_score: 0.9344\n",
      "\n",
      "Epoch 00010: val_loss improved from 0.26138 to 0.19283, saving model to model/best.h5\n",
      "Epoch 11/50\n",
      "444/444 [==============================] - 310s 698ms/step - loss: 0.1629 - acc: 0.9493 - f1_score: 0.9483 - val_loss: 0.1786 - val_acc: 0.9409 - val_f1_score: 0.9398\n",
      "\n",
      "Epoch 00011: val_loss improved from 0.19283 to 0.17855, saving model to model/best.h5\n",
      "Epoch 12/50\n",
      "444/444 [==============================] - 322s 725ms/step - loss: 0.1685 - acc: 0.9463 - f1_score: 0.9465 - val_loss: 0.1849 - val_acc: 0.9372 - val_f1_score: 0.9360\n",
      "\n",
      "Epoch 00012: val_loss did not improve from 0.17855\n",
      "Epoch 13/50\n",
      "444/444 [==============================] - 317s 713ms/step - loss: 0.1562 - acc: 0.9500 - f1_score: 0.9494 - val_loss: 0.1814 - val_acc: 0.9374 - val_f1_score: 0.9365\n",
      "\n",
      "Epoch 00013: val_loss did not improve from 0.17855\n",
      "Epoch 14/50\n",
      "444/444 [==============================] - 314s 706ms/step - loss: 0.1400 - acc: 0.9564 - f1_score: 0.9558 - val_loss: 0.1608 - val_acc: 0.9434 - val_f1_score: 0.9428\n",
      "\n",
      "Epoch 00014: val_loss improved from 0.17855 to 0.16082, saving model to model/best.h5\n",
      "Epoch 15/50\n",
      "444/444 [==============================] - 326s 733ms/step - loss: 0.1422 - acc: 0.9542 - f1_score: 0.9539 - val_loss: 0.1540 - val_acc: 0.9466 - val_f1_score: 0.9464\n",
      "\n",
      "Epoch 00015: val_loss improved from 0.16082 to 0.15398, saving model to model/best.h5\n",
      "Epoch 16/50\n",
      "444/444 [==============================] - 324s 730ms/step - loss: 0.1413 - acc: 0.9546 - f1_score: 0.9542 - val_loss: 0.1876 - val_acc: 0.9331 - val_f1_score: 0.9333\n",
      "\n",
      "Epoch 00016: val_loss did not improve from 0.15398\n",
      "Epoch 17/50\n",
      "444/444 [==============================] - 350s 787ms/step - loss: 0.1431 - acc: 0.9553 - f1_score: 0.9546 - val_loss: 0.1863 - val_acc: 0.9368 - val_f1_score: 0.9371\n",
      "\n",
      "Epoch 00017: val_loss did not improve from 0.15398\n",
      "Epoch 18/50\n",
      "444/444 [==============================] - 313s 705ms/step - loss: 0.1460 - acc: 0.9545 - f1_score: 0.9545 - val_loss: 0.1559 - val_acc: 0.9468 - val_f1_score: 0.9469\n",
      "\n",
      "Epoch 00018: val_loss did not improve from 0.15398\n",
      "Epoch 19/50\n",
      "444/444 [==============================] - 313s 704ms/step - loss: 0.1392 - acc: 0.9563 - f1_score: 0.9560 - val_loss: 0.1465 - val_acc: 0.9501 - val_f1_score: 0.9504\n",
      "\n",
      "Epoch 00019: val_loss improved from 0.15398 to 0.14652, saving model to model/best.h5\n",
      "Epoch 20/50\n",
      "444/444 [==============================] - 307s 692ms/step - loss: 0.1315 - acc: 0.9590 - f1_score: 0.9591 - val_loss: 0.1461 - val_acc: 0.9500 - val_f1_score: 0.9493\n",
      "\n",
      "Epoch 00020: val_loss improved from 0.14652 to 0.14613, saving model to model/best.h5\n",
      "Epoch 21/50\n",
      "444/444 [==============================] - 311s 701ms/step - loss: 0.1306 - acc: 0.9589 - f1_score: 0.9596 - val_loss: 0.1481 - val_acc: 0.9530 - val_f1_score: 0.9528\n",
      "\n",
      "Epoch 00021: val_loss did not improve from 0.14613\n",
      "Epoch 22/50\n",
      "444/444 [==============================] - 323s 727ms/step - loss: 0.1299 - acc: 0.9603 - f1_score: 0.9601 - val_loss: 0.1514 - val_acc: 0.9503 - val_f1_score: 0.9496\n",
      "\n",
      "Epoch 00022: val_loss did not improve from 0.14613\n",
      "Epoch 23/50\n",
      "444/444 [==============================] - 310s 699ms/step - loss: 0.1321 - acc: 0.9591 - f1_score: 0.9583 - val_loss: 0.1485 - val_acc: 0.9508 - val_f1_score: 0.9500\n",
      "\n",
      "Epoch 00023: val_loss did not improve from 0.14613\n",
      "Epoch 24/50\n",
      "444/444 [==============================] - 321s 722ms/step - loss: 0.1327 - acc: 0.9598 - f1_score: 0.9593 - val_loss: 0.1424 - val_acc: 0.9509 - val_f1_score: 0.9500\n",
      "\n",
      "Epoch 00024: val_loss improved from 0.14613 to 0.14241, saving model to model/best.h5\n",
      "Epoch 25/50\n",
      "444/444 [==============================] - 322s 725ms/step - loss: 0.1312 - acc: 0.9619 - f1_score: 0.9613 - val_loss: 0.1420 - val_acc: 0.9493 - val_f1_score: 0.9490\n",
      "\n",
      "Epoch 00025: val_loss improved from 0.14241 to 0.14203, saving model to model/best.h5\n",
      "Epoch 26/50\n",
      "444/444 [==============================] - 335s 755ms/step - loss: 0.1262 - acc: 0.9610 - f1_score: 0.9614 - val_loss: 0.1440 - val_acc: 0.9508 - val_f1_score: 0.9504\n",
      "\n",
      "Epoch 00026: val_loss did not improve from 0.14203\n",
      "Epoch 27/50\n",
      "444/444 [==============================] - 323s 726ms/step - loss: 0.1237 - acc: 0.9612 - f1_score: 0.9610 - val_loss: 0.1392 - val_acc: 0.9518 - val_f1_score: 0.9515\n",
      "\n",
      "Epoch 00027: val_loss improved from 0.14203 to 0.13919, saving model to model/best.h5\n",
      "Epoch 28/50\n",
      "444/444 [==============================] - 322s 725ms/step - loss: 0.1265 - acc: 0.9607 - f1_score: 0.9601 - val_loss: 0.1501 - val_acc: 0.9488 - val_f1_score: 0.9476\n",
      "\n",
      "Epoch 00028: val_loss did not improve from 0.13919\n",
      "Epoch 29/50\n",
      "444/444 [==============================] - 322s 725ms/step - loss: 0.1258 - acc: 0.9616 - f1_score: 0.9611 - val_loss: 0.1433 - val_acc: 0.9521 - val_f1_score: 0.9520\n",
      "\n",
      "Epoch 00029: val_loss did not improve from 0.13919\n",
      "Epoch 30/50\n",
      "444/444 [==============================] - 319s 717ms/step - loss: 0.1234 - acc: 0.9619 - f1_score: 0.9618 - val_loss: 0.1458 - val_acc: 0.9514 - val_f1_score: 0.9514\n",
      "\n",
      "Epoch 00030: val_loss did not improve from 0.13919\n",
      "Epoch 31/50\n",
      "444/444 [==============================] - 311s 701ms/step - loss: 0.1239 - acc: 0.9606 - f1_score: 0.9612 - val_loss: 0.1411 - val_acc: 0.9523 - val_f1_score: 0.9537\n",
      "\n",
      "Epoch 00031: val_loss did not improve from 0.13919\n",
      "Epoch 32/50\n",
      "444/444 [==============================] - 323s 728ms/step - loss: 0.1258 - acc: 0.9623 - f1_score: 0.9622 - val_loss: 0.1451 - val_acc: 0.9519 - val_f1_score: 0.9514\n",
      "\n",
      "Epoch 00032: val_loss did not improve from 0.13919\n",
      "Epoch 33/50\n",
      "206/444 [============>.................] - ETA: 2:03 - loss: 0.1266 - acc: 0.9600 - f1_score: 0.9589"
     ]
    }
   ],
   "source": [
    "!mkdir logs\n",
    "checkpoint = ModelCheckpoint('model/best.h5', monitor='val_loss', verbose=1, save_best_only=True)\n",
    "early = EarlyStopping(monitor=\"val_loss\", mode=\"min\", patience=10)\n",
    "reduce_lr = ReduceLROnPlateau(monitor='val_loss', factor=0.4, patience=2, min_lr=1e-8)\n",
    "tb = TensorBoard(log_dir='logs/', write_graph=True)\n",
    "\n",
    "callbacks_list = [checkpoint, early, tb, reduce_lr]\n",
    "\n",
    "dummy_model.fit_generator(train_gen, validation_data=val_gen, callbacks=callbacks_list, epochs=config.max_epochs, workers=6, max_queue_size=20)"
   ]
  },
  {
   "cell_type": "code",
   "execution_count": null,
   "metadata": {},
   "outputs": [],
   "source": [
    "submission = pd.read_csv('data/class_train.tsv', sep='\\t', header=None, names=['file_name', 'tag'])"
   ]
  },
  {
   "cell_type": "code",
   "execution_count": null,
   "metadata": {
    "scrolled": true
   },
   "outputs": [],
   "source": [
    "submission.head()"
   ]
  },
  {
   "cell_type": "code",
   "execution_count": null,
   "metadata": {},
   "outputs": [],
   "source": [
    "TEST_PATH = 'data/test/'\n",
    "file_list = os.listdir(TEST_PATH)"
   ]
  },
  {
   "cell_type": "code",
   "execution_count": 67,
   "metadata": {},
   "outputs": [
    {
     "data": {
      "text/plain": [
       "17888"
      ]
     },
     "execution_count": 67,
     "metadata": {},
     "output_type": "execute_result"
    }
   ],
   "source": [
    "len(file_list)"
   ]
  },
  {
   "cell_type": "code",
   "execution_count": null,
   "metadata": {},
   "outputs": [],
   "source": [
    "TEST_PATH = 'data/test/'\n",
    "X_test = []\n",
    "for file in file_list:\n",
    "    file_name = TEST_PATH + file\n",
    "    X_test.append(wavfile.read(file_name)[1])"
   ]
  },
  {
   "cell_type": "code",
   "execution_count": null,
   "metadata": {},
   "outputs": [],
   "source": [
    "test_gen = DataGenerator(config, X_test, shuffle=False, preprocessing_fn=audio_norm)"
   ]
  },
  {
   "cell_type": "code",
   "execution_count": null,
   "metadata": {},
   "outputs": [],
   "source": [
    "result = dummy_model.predict_generator(test_gen)"
   ]
  },
  {
   "cell_type": "code",
   "execution_count": null,
   "metadata": {},
   "outputs": [],
   "source": [
    "gender_map = {'MA':0, 'FE':1}\n",
    "age_map = {'CH':0, 'AD':1, 'EL':2}\n",
    "class_map = {0:'MA_CH', 1:'MA_AD', 2:'MA_EL', 3:'FE_CH', 4:'FE_AD', 5:'FE_EL'}"
   ]
  },
  {
   "cell_type": "code",
   "execution_count": null,
   "metadata": {},
   "outputs": [],
   "source": [
    "number_tags = np.argmax(result, axis=1)"
   ]
  },
  {
   "cell_type": "code",
   "execution_count": null,
   "metadata": {},
   "outputs": [],
   "source": [
    "submit_tag = [class_map[x] for x in number_tags]"
   ]
  },
  {
   "cell_type": "code",
   "execution_count": null,
   "metadata": {},
   "outputs": [],
   "source": [
    "df = pd.DataFrame(columns=['file_name', 'tags'])"
   ]
  },
  {
   "cell_type": "code",
   "execution_count": null,
   "metadata": {},
   "outputs": [],
   "source": [
    "df.file_name = [x.split('.')[0] for x in file_list]"
   ]
  },
  {
   "cell_type": "code",
   "execution_count": null,
   "metadata": {},
   "outputs": [],
   "source": [
    "df.tags = submit_tag"
   ]
  },
  {
   "cell_type": "code",
   "execution_count": null,
   "metadata": {},
   "outputs": [],
   "source": [
    "df.to_csv('data/prediction.tsv',sep='\\t', header=False, index=False)"
   ]
  },
  {
   "cell_type": "code",
   "execution_count": null,
   "metadata": {},
   "outputs": [],
   "source": []
  }
 ],
 "metadata": {
  "kernelspec": {
   "display_name": "Python 3",
   "language": "python",
   "name": "python3"
  },
  "language_info": {
   "codemirror_mode": {
    "name": "ipython",
    "version": 3
   },
   "file_extension": ".py",
   "mimetype": "text/x-python",
   "name": "python",
   "nbconvert_exporter": "python",
   "pygments_lexer": "ipython3",
   "version": "3.6.7"
  }
 },
 "nbformat": 4,
 "nbformat_minor": 2
}
